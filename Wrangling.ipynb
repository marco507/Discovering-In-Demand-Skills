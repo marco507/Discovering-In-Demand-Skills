{
 "cells": [
  {
   "cell_type": "code",
   "execution_count": null,
   "id": "a864394a",
   "metadata": {},
   "outputs": [],
   "source": [
    "import os\n",
    "import time\n",
    "from tqdm import tqdm\n",
    "import itertools\n",
    "import openai\n",
    "openai.api_key = ''\n",
    "import pandas as pd"
   ]
  },
  {
   "cell_type": "code",
   "execution_count": null,
   "id": "fe5a0d37",
   "metadata": {},
   "outputs": [],
   "source": [
    "def process_jobs(input_folder, output_folder, description, prompt):\n",
    "    \n",
    "    jobs = os.listdir(input_folder)\n",
    "    jobs = sorted(jobs, key=lambda x: int(x.split('_')[-1].split('.')[0]))\n",
    "\n",
    "    for job in tqdm(jobs, desc=description):\n",
    "\n",
    "        # Load the job posting\n",
    "        file_path = os.path.join(input_folder, job)\n",
    "        with open(file_path, encoding='utf-8') as f:\n",
    "            content = f.read()\n",
    "\n",
    "        # Init the rate limit timer\n",
    "        start_time = time.time()\n",
    "        tokens_per_minute = 90000\n",
    "        tokens_used = 0\n",
    "\n",
    "        # Format the prompt\n",
    "        modified_prompt = prompt.format(content=content)\n",
    "\n",
    "        # Call the ChatCompletionsAPI\n",
    "        output_path = os.path.join(output_folder, job)\n",
    "        with open(output_path, 'w', encoding='utf-8') as f:\n",
    "            completion = openai.ChatCompletion.create(\n",
    "                model='gpt-3.5-turbo',\n",
    "                messages=[\n",
    "                    {\"role\": \"system\", \"content\": \"You are a helpful assistant.\"},\n",
    "                    {\"role\": \"user\", \"content\": modified_prompt}])\n",
    "\n",
    "            try:\n",
    "                f.write(completion.choices[0].message['content'])\n",
    "\n",
    "                # Check rate limits and wait if necessary\n",
    "                tokens_used += completion['usage']['total_tokens']\n",
    "                elapsed_time = time.time() - start_time\n",
    "\n",
    "                if elapsed_time >= 61:\n",
    "                    start_time = time.time()\n",
    "                    tokens_used = 0\n",
    "\n",
    "                if tokens_used >= tokens_per_minute:\n",
    "                    print('\\nWaiting to avoid rate limit')\n",
    "                    time.sleep(61)\n",
    "\n",
    "            except IndexError:\n",
    "                print(f'API Error')\n",
    "                break"
   ]
  },
  {
   "cell_type": "markdown",
   "id": "86e754ab",
   "metadata": {},
   "source": [
    "## Skills"
   ]
  },
  {
   "cell_type": "code",
   "execution_count": null,
   "id": "b11d3839",
   "metadata": {},
   "outputs": [],
   "source": [
    "prompt = \"\"\"\n",
    "Bitte anwtorte mit einer Liste von Skills wie Programmiersprachen, Softwareprodukte und Softwarebibliotheken die in dieser Stellenauschreibung für eine Data-related Stelle erwähnt werden.\n",
    "Sei sorgfältig und lese die Stellenauschreibung Schritt-für-Schritt.\n",
    "Wenn in der Stellenauschreibung nichts davon erwähnt wird, dann antworte mit NONE. Antworte nur mit einer komma-getrennten Liste von Skills.\n",
    "\n",
    "Beispiele für Skills:\n",
    "Machine Learning, Python, SQL, Azure, PowerBI\n",
    "\n",
    "Skill Liste Ausgabeformat:\n",
    "Skill1, Skill2, Skill3, Skillx\n",
    "\n",
    "Stellenauschreibung:\n",
    "###\n",
    "{content}\n",
    "###\n",
    "\"\"\""
   ]
  },
  {
   "cell_type": "code",
   "execution_count": null,
   "id": "fa12a820",
   "metadata": {},
   "outputs": [],
   "source": [
    "input_folder = 'Data/Scraping/Jobs'\n",
    "output_folder = 'Data/Wrangling/Skills'"
   ]
  },
  {
   "cell_type": "code",
   "execution_count": null,
   "id": "8dc73493",
   "metadata": {},
   "outputs": [],
   "source": [
    "process_jobs(input_folder, output_folder, 'Extracting skills', prompt)"
   ]
  },
  {
   "cell_type": "markdown",
   "id": "fc5943fc",
   "metadata": {},
   "source": [
    "## Salaries"
   ]
  },
  {
   "cell_type": "code",
   "execution_count": null,
   "id": "d8c7dc16",
   "metadata": {},
   "outputs": [],
   "source": [
    "prompt = \"\"\"\n",
    "Please extract the salary and the payment period from the following job posting. Format it according to the examples listed below. If there is a range write the lower boundary of the range. Write it with a precision if two decimal places. Write no points or semicolons for thousands. Read through the text step by step. If there is no salary mentioned just write NONE.\n",
    "\n",
    "Examples Unformatted:\n",
    "1. The salary consists of EUR 75,000.00/year\n",
    "2. Offer a market-compliant salary of EUR 4,000.23 gross per month.\n",
    "3. We pay 3500-4000/monthly\n",
    "4. Salary of 50000\n",
    "\n",
    "Examples Formatted:\n",
    "1. 75000.00;Yearly\n",
    "2. 4000.23;Monthly\n",
    "3. 3500.00;Monthly\n",
    "4. 50000.00;Yearly\n",
    "\n",
    "Job Posting:\n",
    "###\n",
    "{content}\n",
    "###\n",
    "\"\"\""
   ]
  },
  {
   "cell_type": "code",
   "execution_count": null,
   "id": "1cc1a167",
   "metadata": {},
   "outputs": [],
   "source": [
    "input_folder = 'Data/Scraping/Jobs'\n",
    "output_folder = 'Data/Wrangling/Salaries'"
   ]
  },
  {
   "cell_type": "code",
   "execution_count": null,
   "id": "9c14d709",
   "metadata": {},
   "outputs": [],
   "source": [
    "process_jobs(input_folder, output_folder, 'Extracting salaries', prompt)"
   ]
  },
  {
   "cell_type": "markdown",
   "id": "d9e7a5e5",
   "metadata": {},
   "source": [
    "## DataFrame"
   ]
  },
  {
   "cell_type": "markdown",
   "id": "e1ddf276",
   "metadata": {},
   "source": [
    "### Salaries"
   ]
  },
  {
   "cell_type": "code",
   "execution_count": null,
   "id": "ef66a906",
   "metadata": {},
   "outputs": [],
   "source": [
    "input_folder = 'Data/Wrangling/Salaries'"
   ]
  },
  {
   "cell_type": "code",
   "execution_count": null,
   "id": "e9e057ea",
   "metadata": {},
   "outputs": [],
   "source": [
    "jobs = os.listdir(input_folder)\n",
    "jobs = sorted(jobs, key=lambda x: int(x.split('_')[-1].split('.')[0]))\n",
    "\n",
    "salaries = []\n",
    "for i, job in enumerate(jobs):\n",
    "    \n",
    "    file_path = os.path.join(input_folder, job)\n",
    "    with open(file_path) as f:\n",
    "        content = f.read()\n",
    "        \n",
    "    if 'NONE' in content or 'None' in content:\n",
    "        salaries.append('NONE')\n",
    "        continue\n",
    "\n",
    "    try:\n",
    "        # Retrieve salary\n",
    "        salary = content.split(';')[0]\n",
    "        if '-' in salary:\n",
    "            salary = salary.split('-')[0]\n",
    "\n",
    "        salary = salary.replace(',', '')\n",
    "        salary = salary.strip()\n",
    "\n",
    "        # Retrieve period\n",
    "        period = content.split(';')[1]\n",
    "        if period == 'Monthly':\n",
    "            salary = round(float(salary)*14,2)\n",
    "\n",
    "        elif period == 'Yearly':\n",
    "            salary = round(float(salary), 2)\n",
    "            \n",
    "        salaries.append(salary)  \n",
    "\n",
    "    except:\n",
    "        print(f'Error processing job {i+1}') \n",
    "        \n",
    "len(salaries)"
   ]
  },
  {
   "cell_type": "markdown",
   "id": "82f2d8f8",
   "metadata": {},
   "source": [
    "### Skills"
   ]
  },
  {
   "cell_type": "code",
   "execution_count": null,
   "id": "0f33e945",
   "metadata": {},
   "outputs": [],
   "source": [
    "input_folder = 'Data/Wrangling/Skills'"
   ]
  },
  {
   "cell_type": "code",
   "execution_count": null,
   "id": "27bc1de1",
   "metadata": {},
   "outputs": [],
   "source": [
    "jobs = os.listdir(input_folder)\n",
    "jobs = sorted(jobs, key=lambda x: int(x.split('_')[-1].split('.')[0]))\n",
    "\n",
    "skills = []\n",
    "for i, job in enumerate(jobs):\n",
    "    \n",
    "    # Load the extracted skills\n",
    "    file_path = os.path.join(input_folder, job)\n",
    "    with open(file_path, encoding='utf-8') as f:\n",
    "        content = f.read()\n",
    "        \n",
    "    skills.append(content)\n",
    "\n",
    "# Skills cleaning\n",
    "skills = [skills.split(',') for skills in skills]\n",
    "skills = [[word for skill in job for word in skill.split('/')] for job in skills]\n",
    "skills = [[skill.lower() for skill in job] for job in skills]\n",
    "skills = [[skill.replace(' ', '').replace('-', '') for skill in job] for job in skills]\n",
    "skills = [[skill.replace('ms', '').replace('microsoft', '') for skill in job] for job in skills]\n",
    "skills = [[skill.replace('google', '') for skill in job] for job in skills]\n",
    "skills = [[skill.replace('(', '').replace(')', '') for skill in job] for job in skills]\n",
    "skills = [[skill.strip() for skill in job] for job in skills]\n",
    "skills = [[skill for skill in job if skill] for job in skills]"
   ]
  },
  {
   "cell_type": "code",
   "execution_count": null,
   "id": "a46f6200",
   "metadata": {},
   "outputs": [],
   "source": [
    "# DF columns\n",
    "columns = list(itertools.chain(*skills))\n",
    "columns = set(columns)\n",
    "columns = list(columns)\n",
    "columns.append('Salary')\n",
    "\n",
    "df = pd.DataFrame(columns=columns)\n",
    "\n",
    "# DF rows\n",
    "rows = []\n",
    "for i, job in enumerate(skills):\n",
    "\n",
    "    # We init a new empty row\n",
    "    row = pd.Series([False]*(len(columns)), index=df.columns)\n",
    "\n",
    "    # We fill the row with the one-hot encoded skills \n",
    "    for skill in job:\n",
    "        if skill in columns:\n",
    "            row[skill] = True\n",
    "\n",
    "    if salaries[i] == 'NONE':\n",
    "        row['Salary'] = False\n",
    "    else:  \n",
    "        row['Salary'] = salaries[i]\n",
    "\n",
    "    rows.append(row)\n",
    "    \n",
    "df = pd.DataFrame(rows)\n",
    "df = df.drop(columns=['none'])\n",
    "df.to_csv('Data/Wrangling/jobs_df.csv', index=False)"
   ]
  }
 ],
 "metadata": {
  "kernelspec": {
   "display_name": "Python 3 (ipykernel)",
   "language": "python",
   "name": "python3"
  },
  "language_info": {
   "codemirror_mode": {
    "name": "ipython",
    "version": 3
   },
   "file_extension": ".py",
   "mimetype": "text/x-python",
   "name": "python",
   "nbconvert_exporter": "python",
   "pygments_lexer": "ipython3",
   "version": "3.9.12"
  }
 },
 "nbformat": 4,
 "nbformat_minor": 5
}
