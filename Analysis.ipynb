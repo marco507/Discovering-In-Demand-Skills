{
 "cells": [
  {
   "cell_type": "code",
   "execution_count": null,
   "id": "0fe779eb",
   "metadata": {},
   "outputs": [],
   "source": [
    "import pandas as pd\n",
    "import matplotlib.pyplot as plt\n",
    "import seaborn as sns"
   ]
  },
  {
   "cell_type": "code",
   "execution_count": null,
   "id": "0ea825d5",
   "metadata": {},
   "outputs": [],
   "source": [
    "df = pd.read_csv('Data/Wrangling/jobs_df.csv')\n",
    "df_skills = df.drop(columns=['Salary'], index=1)"
   ]
  },
  {
   "cell_type": "code",
   "execution_count": null,
   "id": "d8da0d85",
   "metadata": {},
   "outputs": [],
   "source": [
    "df.shape"
   ]
  },
  {
   "cell_type": "markdown",
   "id": "9325a30a",
   "metadata": {},
   "source": [
    "## Top 15 Skills"
   ]
  },
  {
   "cell_type": "code",
   "execution_count": null,
   "id": "6479b556",
   "metadata": {},
   "outputs": [],
   "source": [
    "column_sums = df_skills.sum()\n",
    "top_15 = column_sums.sort_values(ascending=False)[:15]\n",
    "\n",
    "sns.barplot(x=top_15.values, y=top_15.index, orient='h', palette='pastel')"
   ]
  },
  {
   "cell_type": "markdown",
   "id": "76836a15",
   "metadata": {},
   "source": [
    "## Salaries"
   ]
  },
  {
   "cell_type": "code",
   "execution_count": null,
   "id": "ea633e06",
   "metadata": {},
   "outputs": [],
   "source": [
    "salaries = df[df.Salary != 'False']\n",
    "salaries = salaries['Salary'].astype(float)\n",
    "sns.boxplot(data=salaries, orient='h', palette='pastel')"
   ]
  },
  {
   "cell_type": "code",
   "execution_count": null,
   "id": "9a2a9296",
   "metadata": {},
   "outputs": [],
   "source": [
    "print(f'Mean: {round(salaries.mean(), 2)}')\n",
    "print(f'Median: {round(salaries.median(), 2)}')"
   ]
  }
 ],
 "metadata": {
  "kernelspec": {
   "display_name": "Python 3 (ipykernel)",
   "language": "python",
   "name": "python3"
  },
  "language_info": {
   "codemirror_mode": {
    "name": "ipython",
    "version": 3
   },
   "file_extension": ".py",
   "mimetype": "text/x-python",
   "name": "python",
   "nbconvert_exporter": "python",
   "pygments_lexer": "ipython3",
   "version": "3.9.12"
  }
 },
 "nbformat": 4,
 "nbformat_minor": 5
}
